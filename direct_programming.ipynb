{
 "cells": [
  {
   "cell_type": "code",
   "execution_count": 62,
   "id": "7545c6c3",
   "metadata": {},
   "outputs": [],
   "source": [
    "%matplotlib inline\n",
    "\n",
    "import numpy as np\n",
    "import matplotlib.pyplot as plt"
   ]
  },
  {
   "cell_type": "code",
   "execution_count": 75,
   "id": "65f47d79",
   "metadata": {},
   "outputs": [],
   "source": [
    "t = 10 # общее время моделирования\n",
    "T = 0.1 # период дискретизации\n",
    "\n",
    "time = np.arange(0,t,T) # массив значений времени\n",
    "\n",
    "x = np.ones(len(time),dtype=int) # входной сигнал, в данном случае на вход подается константа  равная 1\n",
    "y = np.zeros(len(time),dtype=float) # выходой сигнал, инициализированный нулями"
   ]
  },
  {
   "cell_type": "code",
   "execution_count": 76,
   "id": "c0c8f6af",
   "metadata": {},
   "outputs": [],
   "source": [
    "# задаем начальные значения для дальнейшего вычисления значений разностного уравнения\n",
    "y[0] = 0\n",
    "y[1] = 2*x[0]-3*y[0]\n",
    "y[2] = 2*x[1]+x[0] - (3*y[1]-7*y[0])\n",
    "y[3] = 2*x[2]+x[1]-3*x[0] - (3*y[2]-7*y[1]+3*y[0])"
   ]
  },
  {
   "cell_type": "code",
   "execution_count": 77,
   "id": "a68a09f8",
   "metadata": {},
   "outputs": [],
   "source": [
    "# вычисляем выходной сигнал\n",
    "for i in range(4,len(time)):\n",
    "    y[i] = 2*x[i-1]+x[i-2]-3*x[i-3] - (3*y[i-1]-7*y[i-2]+3*y[i-3])"
   ]
  },
  {
   "cell_type": "code",
   "execution_count": 78,
   "id": "5ef30841",
   "metadata": {},
   "outputs": [
    {
     "data": {
      "image/png": "[encoded data removed]",
      "text/plain": [
       "<Figure size 432x288 with 1 Axes>"
      ]
     },
     "metadata": {
      "needs_background": "light"
     },
     "output_type": "display_data"
    }
   ],
   "source": [
    "# рисуем график\n",
    "plt.plot(time,y)\n",
    "plt.title('Переходная характеристика передаточной функции')\n",
    "plt.xlabel('Время, с')\n",
    "plt.ylabel('y')\n",
    "plt.show()"
   ]
  }
 ],
 "metadata": {
  "kernelspec": {
   "display_name": "Python 3 (ipykernel)",
   "language": "python",
   "name": "python3"
  },
  "language_info": {
   "codemirror_mode": {
    "name": "ipython",
    "version": 3
   },
   "file_extension": ".py",
   "mimetype": "text/x-python",
   "name": "python",
   "nbconvert_exporter": "python",
   "pygments_lexer": "ipython3",
   "version": "3.8.10"
  }
 },
 "nbformat": 4,
 "nbformat_minor": 5
}
